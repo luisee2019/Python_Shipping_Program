{
 "cells": [
  {
   "cell_type": "code",
   "execution_count": 4,
   "id": "7608cfd0",
   "metadata": {},
   "outputs": [
    {
     "ename": "SyntaxError",
     "evalue": "invalid syntax (2830239777.py, line 6)",
     "output_type": "error",
     "traceback": [
      "\u001b[1;36m  Input \u001b[1;32mIn [4]\u001b[1;36m\u001b[0m\n\u001b[1;33m    else:\u001b[0m\n\u001b[1;37m    ^\u001b[0m\n\u001b[1;31mSyntaxError\u001b[0m\u001b[1;31m:\u001b[0m invalid syntax\n"
     ]
    }
   ],
   "source": [
    "pi = 3.14159\n",
    "value = input(\"Please specify if you would like to calculate the circumference using the radius or diameter?\"\"\\n\")\n",
    "if value == 'radius':\n",
    "    value = input(\"Please enter the radius of the circle: \")\n",
    "    circumference = 2 * int(pi) * value\n",
    "    else:\n",
    "    if value == 'diameter':\n",
    "    value = input(\"Please enter the diameter of the circle: \")\n",
    "    circumference = value * int(pi)\n",
    "\n",
    "print(\"The circumference of the circle is \" +str(circumference) + \".\")"
   ]
  },
  {
   "cell_type": "code",
   "execution_count": 7,
   "id": "aa1a68af",
   "metadata": {},
   "outputs": [
    {
     "name": "stdout",
     "output_type": "stream",
     "text": [
      "Please specify if you would like to calculate the circumference using the radius or diameter?\n",
      "radius\n",
      "Please enter the radius of the circle: 10\n",
      "The circumference of the circle is 101010101010.\n"
     ]
    }
   ],
   "source": [
    "value = input(\"Please specify if you would like to calculate the circumference using the radius or diameter?\"\"\\n\")\n",
    "if value == 'radius':\n",
    "    value = input(\"Please enter the radius of the circle: \")\n",
    "    circumference = 2 * int(3.14159) * value\n",
    "else:\n",
    "    if value == 'diameter':\n",
    "     value = input(\"Please enter the diameter of the circle: \")\n",
    "    circumference = value * 3.14159\n",
    "\n",
    "print(\"The circumference of the circle is \" +str(circumference) + \".\")"
   ]
  },
  {
   "cell_type": "code",
   "execution_count": 9,
   "id": "d27852c4",
   "metadata": {},
   "outputs": [
    {
     "name": "stdout",
     "output_type": "stream",
     "text": [
      "Please specify if you would like to calculate the circumference using the radius or diameter?\n",
      "diameter\n",
      "Please enter the diameter of the circle: 2\n",
      "The circumference of the circle is 222.\n"
     ]
    }
   ],
   "source": [
    "value = input(\"Please specify if you would like to calculate the circumference using the radius or diameter?\"\"\\n\")\n",
    "if value == 'radius':\n",
    "    value = input(\"Please enter the radius of the circle: \")\n",
    "    circumference = 2 * int(3.14159) * value\n",
    "else:\n",
    "    if value == 'diameter':\n",
    "     value = input(\"Please enter the diameter of the circle: \")\n",
    "    circumference = value * int(3.14159)\n",
    "\n",
    "print(\"The circumference of the circle is \" +str(circumference) + \".\")"
   ]
  },
  {
   "cell_type": "code",
   "execution_count": 10,
   "id": "7c272a35",
   "metadata": {},
   "outputs": [
    {
     "ename": "SyntaxError",
     "evalue": "invalid syntax (3174760602.py, line 9)",
     "output_type": "error",
     "traceback": [
      "\u001b[1;36m  Input \u001b[1;32mIn [10]\u001b[1;36m\u001b[0m\n\u001b[1;33m    else: print(\"You have entered an invalid value.  Please try again!\")\u001b[0m\n\u001b[1;37m    ^\u001b[0m\n\u001b[1;31mSyntaxError\u001b[0m\u001b[1;31m:\u001b[0m invalid syntax\n"
     ]
    }
   ],
   "source": [
    "value = input(\"Please specify if you would like to calculate the circumference using the radius or diameter?\"\"\\n\")\n",
    "if value == 'radius':\n",
    "    value = input(\"Please enter the radius of the circle: \")\n",
    "    circumference = 2 * int(3.14159) * value\n",
    "else:\n",
    "    if value == 'diameter':\n",
    "     value = input(\"Please enter the diameter of the circle: \")\n",
    "    circumference = value * int(3.14159)\n",
    "else: print(\"You have entered an invalid value.  Please try again!\")\n",
    "\n",
    "print(\"The circumference of the circle is \" +str(circumference) + \".\")"
   ]
  },
  {
   "cell_type": "code",
   "execution_count": 14,
   "id": "5e4310f8",
   "metadata": {},
   "outputs": [
    {
     "name": "stdout",
     "output_type": "stream",
     "text": [
      "Please specify if you would like to calculate the circumference using the radius or diameter?\n",
      "diameterr\n",
      "You have entered an invalid value.  Please try again!\n"
     ]
    },
    {
     "ename": "SyntaxError",
     "evalue": "'break' outside loop (987850414.py, line 10)",
     "output_type": "error",
     "traceback": [
      "\u001b[1;36m  Input \u001b[1;32mIn [14]\u001b[1;36m\u001b[0m\n\u001b[1;33m    break\u001b[0m\n\u001b[1;37m    ^\u001b[0m\n\u001b[1;31mSyntaxError\u001b[0m\u001b[1;31m:\u001b[0m 'break' outside loop\n"
     ]
    }
   ],
   "source": [
    "value = input(\"Please specify if you would like to calculate the circumference using the radius or diameter?\"\"\\n\")\n",
    "if value == 'radius':\n",
    "    value = input(\"Please enter the radius of the circle: \")\n",
    "    circumference = 2 * int(3.14159) * value\n",
    "else:\n",
    "    if value == 'diameter':\n",
    "     value = input(\"Please enter the diameter of the circle: \")\n",
    "    circumference = value * int(3.14159)\n",
    "elseif: print(\"You have entered an invalid value.  Please try again!\")\n",
    "\n",
    "print(\"The circumference of the circle is \" +str(circumference) + \".\")"
   ]
  },
  {
   "cell_type": "code",
   "execution_count": 15,
   "id": "14141bb7",
   "metadata": {},
   "outputs": [
    {
     "name": "stdout",
     "output_type": "stream",
     "text": [
      "Please specify if you would like to calculate the circumference using the radius or diameter?\n",
      "radius\n",
      "Please enter the radius of the circle: 1\n",
      "The circumference of the circle is 111111.\n"
     ]
    }
   ],
   "source": [
    "value = input(\"Please specify if you would like to calculate the circumference using the radius or diameter?\"\"\\n\")\n",
    "if value == 'radius':\n",
    "    value = input(\"Please enter the radius of the circle: \")\n",
    "    circumference = 2 * int(3.14159) * value\n",
    "else:\n",
    "    if value == 'diameter':\n",
    "     value = input(\"Please enter the diameter of the circle: \")\n",
    "    circumference = value * int(3.14159)\n",
    "print(\"The circumference of the circle is \" +str(circumference) + \".\")"
   ]
  },
  {
   "cell_type": "code",
   "execution_count": null,
   "id": "9aa53c71",
   "metadata": {},
   "outputs": [],
   "source": []
  }
 ],
 "metadata": {
  "kernelspec": {
   "display_name": "Python 3 (ipykernel)",
   "language": "python",
   "name": "python3"
  },
  "language_info": {
   "codemirror_mode": {
    "name": "ipython",
    "version": 3
   },
   "file_extension": ".py",
   "mimetype": "text/x-python",
   "name": "python",
   "nbconvert_exporter": "python",
   "pygments_lexer": "ipython3",
   "version": "3.9.12"
  }
 },
 "nbformat": 4,
 "nbformat_minor": 5
}
